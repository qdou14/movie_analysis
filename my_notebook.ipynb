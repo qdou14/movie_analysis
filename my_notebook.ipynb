{
 "cells": [
  {
   "cell_type": "markdown",
   "metadata": {},
   "source": [
    "# Project 2 (M9)\n",
    "Qing Dou"
   ]
  },
  {
   "cell_type": "markdown",
   "metadata": {},
   "source": [
    "## Introduction\n",
    "In this project, I will embark on a comprehensive journey to explore and analyze movie-related data from three distinct sources, each with its unique perspective on the film industry. Our objective is to harness the power of Python programming, data parsing, web scraping, and API interactions to extract, process, and analyze data for insightful conclusions.\n",
    "\n",
    "\n",
    "* Part 1: XML Parsing with Fandango: Parsing Fandango's XML sitemap to extract movie listings and organize them into a structured DataFrame for analysis.\n",
    "\n",
    "* Part 2: API Interaction with Bechdel Test Database: Utilizing the Bechdel Test API to gather data on films and rating, compiling this information into an analyzable dataset.\n",
    "\n",
    "* Part 3: Web Scraping Rotten Tomatoes: Extracting data about Golden Globe Best Film winners from Rotten Tomatoes through web scraping, to analyze trends in critically acclaimed movies.\n",
    "\n",
    "* Part 4: Analyzing Dataset Connections: Investigating the relationship between gender representation in films from the Bechdel Test data (Part 2) and their critical acclaim as reflected in Rotten Tomatoes' Golden Globe winners data (Part 3).\n",
    "\n",
    "github:https://github.com/qdou14/project2_movie_analysis\n",
    "\n"
   ]
  },
  {
   "cell_type": "code",
   "execution_count": 16,
   "metadata": {},
   "outputs": [],
   "source": [
    "# We should setup for our data processing and analysis tasks, where we import essential Python libraries.\n",
    "import requests \n",
    "import xml.etree.ElementTree as ET \n",
    "import pandas as pd \n",
    "import lxml\n",
    "from bs4 import BeautifulSoup\n",
    "import matplotlib.pyplot as plt\n",
    "import seaborn as sns"
   ]
  },
  {
   "cell_type": "markdown",
   "metadata": {},
   "source": [
    "## Part 1:XML Parsing\n"
   ]
  },
  {
   "cell_type": "markdown",
   "metadata": {},
   "source": [
    "### Overview\n",
    "In this section, we utilize a Python class named XMLName that interfaces with www.fandango.com to fetch the robots.txt, identify the sitemap, and parse the contents of each sitemap into a pandas DataFrame. This DataFrame will improve further analysis by providing site's URLs."
   ]
  },
  {
   "cell_type": "markdown",
   "metadata": {},
   "source": [
    "### Implementation"
   ]
  },
  {
   "cell_type": "code",
   "execution_count": 17,
   "metadata": {},
   "outputs": [
    {
     "data": {
      "text/html": [
       "<div>\n",
       "<style scoped>\n",
       "    .dataframe tbody tr th:only-of-type {\n",
       "        vertical-align: middle;\n",
       "    }\n",
       "\n",
       "    .dataframe tbody tr th {\n",
       "        vertical-align: top;\n",
       "    }\n",
       "\n",
       "    .dataframe thead th {\n",
       "        text-align: right;\n",
       "    }\n",
       "</style>\n",
       "<table border=\"1\" class=\"dataframe\">\n",
       "  <thead>\n",
       "    <tr style=\"text-align: right;\">\n",
       "      <th></th>\n",
       "      <th>Sitemap_URLs</th>\n",
       "    </tr>\n",
       "  </thead>\n",
       "  <tbody>\n",
       "    <tr>\n",
       "      <th>0</th>\n",
       "      <td>http://www.fandango.com/sitemapindex-movies.xml</td>\n",
       "    </tr>\n",
       "    <tr>\n",
       "      <th>1</th>\n",
       "      <td>http://www.fandango.com/sitemapindex-theaters.xml</td>\n",
       "    </tr>\n",
       "    <tr>\n",
       "      <th>2</th>\n",
       "      <td>http://www.fandango.com/sitemapindex-performer...</td>\n",
       "    </tr>\n",
       "    <tr>\n",
       "      <th>3</th>\n",
       "      <td>http://www.fandango.com/sitemapindex-videos.xml</td>\n",
       "    </tr>\n",
       "    <tr>\n",
       "      <th>4</th>\n",
       "      <td>http://www.fandango.com/image-sitemapindex-mov...</td>\n",
       "    </tr>\n",
       "    <tr>\n",
       "      <th>5</th>\n",
       "      <td>http://www.fandango.com/image-sitemapindex-per...</td>\n",
       "    </tr>\n",
       "    <tr>\n",
       "      <th>6</th>\n",
       "      <td>http://www.fandango.com/image-sitemapindex-pho...</td>\n",
       "    </tr>\n",
       "  </tbody>\n",
       "</table>\n",
       "</div>"
      ],
      "text/plain": [
       "                                        Sitemap_URLs\n",
       "0    http://www.fandango.com/sitemapindex-movies.xml\n",
       "1  http://www.fandango.com/sitemapindex-theaters.xml\n",
       "2  http://www.fandango.com/sitemapindex-performer...\n",
       "3    http://www.fandango.com/sitemapindex-videos.xml\n",
       "4  http://www.fandango.com/image-sitemapindex-mov...\n",
       "5  http://www.fandango.com/image-sitemapindex-per...\n",
       "6  http://www.fandango.com/image-sitemapindex-pho..."
      ]
     },
     "execution_count": 17,
     "metadata": {},
     "output_type": "execute_result"
    }
   ],
   "source": [
    "# Import the XMLName class from part_1 module within the src.my_package package\n",
    "from src.movie_analysis.part_1_xml_parsing import XMLName\n",
    "\n",
    "# Initialize the parser with the URL to Fandango's robots.txt\n",
    "xmlname = XMLName(\"https://www.fandango.com/\")\n",
    "\n",
    "# Retrieve sitemap data and print the resulting DataFrame.\n",
    "sitemap_data = xmlname.get_sitemap_data()\n",
    "sitemap_data"
   ]
  },
  {
   "cell_type": "markdown",
   "metadata": {},
   "source": [
    "### Sitmaps Analysis\n",
    "The sitemap URLs extracted from robots.txt are listed in the DataFrame below. It have seven sitemap, each URL corresponds to a particular section of the Fandango website, such as movies, theaters, performers, videos, movies, performers and photogalleries. This structure suggests that Fandango organizes its content categorically, which could be useful for specific analyses, such as understanding the distribution of content across different entertainment sections."
   ]
  },
  {
   "cell_type": "markdown",
   "metadata": {},
   "source": [
    "### Potential Use Cases\n",
    "With this dataset, we can perform various analyses, including but not limited to:\n",
    "\n",
    "* Movie Trend Analysis: By examining the sitemapindex-movies.xml, we can track the latest movies being added to Fandango, providing insights into current trends in genres, release dates, and popular choices.\n",
    "\n",
    "* Theater Distribution Mapping: With data from sitemapindex-theaters.xml, analysts could map out theater locations and correlate them with demographic data to understand regional movie preferences or market saturation.\n",
    "\n",
    "* Performance Analysis: Using sitemapindex-performer.xml, we can study the popularity and marketability of movie stars or directors based on their presence on the platform.\n",
    "\n",
    "* Image Data Mining: By scraping image-sitemapindex-movies.xml and image-sitemapindex-performers.xml, one could use image recognition techniques to analyze movie posters or celebrity images for patterns in visual marketing."
   ]
  },
  {
   "cell_type": "markdown",
   "metadata": {},
   "source": [
    "# Part 2: Using an API"
   ]
  },
  {
   "cell_type": "markdown",
   "metadata": {},
   "source": [
    "### Overview\n",
    "This section uses the Bechdel Test API to retrieve movie data based on their representation of women. This data includes movie titles, years of release, Bechdel ratings, and more."
   ]
  },
  {
   "cell_type": "markdown",
   "metadata": {},
   "source": [
    "### Data Retrieval\n",
    "The `APIClient` class is equipped with methods that correspond to the API's endpoints, allowing us to query the API based on IMDb ID or movie title, fetch all movie IDs and years."
   ]
  },
  {
   "cell_type": "code",
   "execution_count": 18,
   "metadata": {},
   "outputs": [
    {
     "data": {
      "text/html": [
       "<div>\n",
       "<style scoped>\n",
       "    .dataframe tbody tr th:only-of-type {\n",
       "        vertical-align: middle;\n",
       "    }\n",
       "\n",
       "    .dataframe tbody tr th {\n",
       "        vertical-align: top;\n",
       "    }\n",
       "\n",
       "    .dataframe thead th {\n",
       "        text-align: right;\n",
       "    }\n",
       "</style>\n",
       "<table border=\"1\" class=\"dataframe\">\n",
       "  <thead>\n",
       "    <tr style=\"text-align: right;\">\n",
       "      <th></th>\n",
       "      <th>rating</th>\n",
       "      <th>id</th>\n",
       "      <th>year</th>\n",
       "      <th>title</th>\n",
       "      <th>imdbid</th>\n",
       "    </tr>\n",
       "  </thead>\n",
       "  <tbody>\n",
       "    <tr>\n",
       "      <th>0</th>\n",
       "      <td>0</td>\n",
       "      <td>9602</td>\n",
       "      <td>1874</td>\n",
       "      <td>Passage de Venus</td>\n",
       "      <td>3155794</td>\n",
       "    </tr>\n",
       "    <tr>\n",
       "      <th>1</th>\n",
       "      <td>0</td>\n",
       "      <td>9804</td>\n",
       "      <td>1877</td>\n",
       "      <td>La Rosace Magique</td>\n",
       "      <td>14495706</td>\n",
       "    </tr>\n",
       "    <tr>\n",
       "      <th>2</th>\n",
       "      <td>0</td>\n",
       "      <td>9603</td>\n",
       "      <td>1878</td>\n",
       "      <td>Sallie Gardner at a Gallop</td>\n",
       "      <td>2221420</td>\n",
       "    </tr>\n",
       "    <tr>\n",
       "      <th>3</th>\n",
       "      <td>0</td>\n",
       "      <td>9806</td>\n",
       "      <td>1878</td>\n",
       "      <td>Le singe musicien</td>\n",
       "      <td>12592084</td>\n",
       "    </tr>\n",
       "    <tr>\n",
       "      <th>4</th>\n",
       "      <td>0</td>\n",
       "      <td>9816</td>\n",
       "      <td>1881</td>\n",
       "      <td>Athlete Swinging a Pick</td>\n",
       "      <td>7816420</td>\n",
       "    </tr>\n",
       "  </tbody>\n",
       "</table>\n",
       "</div>"
      ],
      "text/plain": [
       "   rating    id  year                       title    imdbid\n",
       "0       0  9602  1874            Passage de Venus   3155794\n",
       "1       0  9804  1877           La Rosace Magique  14495706\n",
       "2       0  9603  1878  Sallie Gardner at a Gallop   2221420\n",
       "3       0  9806  1878           Le singe musicien  12592084\n",
       "4       0  9816  1881     Athlete Swinging a Pick   7816420"
      ]
     },
     "execution_count": 18,
     "metadata": {},
     "output_type": "execute_result"
    }
   ],
   "source": [
    "from src.movie_analysis.part_2_api import APIClient\n",
    "\n",
    "# Instantiate the API client\n",
    "api_client = APIClient(base_url=\"http://bechdeltest.com/api/v1\")\n",
    "\n",
    "# Get all movies using the API client\n",
    "df_all_movies = api_client.get_all_movies()\n",
    "\n",
    "# Display the first few rows of the DataFrame\n",
    "df_all_movies.head()"
   ]
  },
  {
   "cell_type": "markdown",
   "metadata": {},
   "source": [
    "#### The DataFrame contains five key variables:\n",
    "\n",
    "- rating: This represents the Bechdel Score, ranging from 0 to 3. A score below 3 indicates that the movie did not pass the Bechdel Test, while a score of 3 signifies that it did pass.\n",
    "- imdbid: The unique identifier for each movie in the IMDB database.\n",
    "- title: The title of the movie.\n",
    "- id: A unique identifier for each movie within this dataset.\n",
    "- year: The release year of the movie.\n",
    "Upon examining the year column, it's evident that the dataset includes movies from as early as the 19th century. Many of these early films have a Bechdel score of 0. For more focused analysis, I will create a new DataFrame that includes only movies released after 1967. This refined dataset will be used for subsequent analyses."
   ]
  },
  {
   "cell_type": "markdown",
   "metadata": {},
   "source": [
    "The next code retrieves movie data for the title \"Matrix\" from an online API, using the APIClient class from our custom package. It demonstrates a method for obtaining supplemental data,  while not critical for our immediate analysis, can be useful for enriching our dataset. The head() function is used to preview the first few entries of the retrieved data, allowing for a quick inspection of the results."
   ]
  },
  {
   "cell_type": "code",
   "execution_count": 19,
   "metadata": {},
   "outputs": [
    {
     "data": {
      "text/html": [
       "<div>\n",
       "<style scoped>\n",
       "    .dataframe tbody tr th:only-of-type {\n",
       "        vertical-align: middle;\n",
       "    }\n",
       "\n",
       "    .dataframe tbody tr th {\n",
       "        vertical-align: top;\n",
       "    }\n",
       "\n",
       "    .dataframe thead th {\n",
       "        text-align: right;\n",
       "    }\n",
       "</style>\n",
       "<table border=\"1\" class=\"dataframe\">\n",
       "  <thead>\n",
       "    <tr style=\"text-align: right;\">\n",
       "      <th></th>\n",
       "      <th>imdbid</th>\n",
       "      <th>id</th>\n",
       "      <th>title</th>\n",
       "      <th>year</th>\n",
       "      <th>visible</th>\n",
       "      <th>rating</th>\n",
       "      <th>submitterid</th>\n",
       "      <th>dubious</th>\n",
       "      <th>date</th>\n",
       "    </tr>\n",
       "  </thead>\n",
       "  <tbody>\n",
       "    <tr>\n",
       "      <th>0</th>\n",
       "      <td>10838180</td>\n",
       "      <td>10167</td>\n",
       "      <td>Matrix Resurrections, The</td>\n",
       "      <td>2021</td>\n",
       "      <td>1</td>\n",
       "      <td>3</td>\n",
       "      <td>19776</td>\n",
       "      <td>0</td>\n",
       "      <td>2021-12-25 05:10:39</td>\n",
       "    </tr>\n",
       "    <tr>\n",
       "      <th>1</th>\n",
       "      <td>0234215</td>\n",
       "      <td>58</td>\n",
       "      <td>Matrix Reloaded, The</td>\n",
       "      <td>2003</td>\n",
       "      <td>1</td>\n",
       "      <td>2</td>\n",
       "      <td>1</td>\n",
       "      <td>0</td>\n",
       "      <td>2008-07-21 00:00:00</td>\n",
       "    </tr>\n",
       "    <tr>\n",
       "      <th>2</th>\n",
       "      <td>0242653</td>\n",
       "      <td>59</td>\n",
       "      <td>Matrix Revolutions, The</td>\n",
       "      <td>2003</td>\n",
       "      <td>1</td>\n",
       "      <td>3</td>\n",
       "      <td>1</td>\n",
       "      <td>0</td>\n",
       "      <td>2008-07-21 00:00:00</td>\n",
       "    </tr>\n",
       "    <tr>\n",
       "      <th>3</th>\n",
       "      <td>0303678</td>\n",
       "      <td>4429</td>\n",
       "      <td>Armitage: Dual Matrix</td>\n",
       "      <td>2002</td>\n",
       "      <td>1</td>\n",
       "      <td>1</td>\n",
       "      <td>7916</td>\n",
       "      <td>1</td>\n",
       "      <td>2013-08-01 15:26:03</td>\n",
       "    </tr>\n",
       "    <tr>\n",
       "      <th>4</th>\n",
       "      <td>0133093</td>\n",
       "      <td>36</td>\n",
       "      <td>Matrix, The</td>\n",
       "      <td>1999</td>\n",
       "      <td>1</td>\n",
       "      <td>3</td>\n",
       "      <td>1</td>\n",
       "      <td>0</td>\n",
       "      <td>2008-07-20 00:00:00</td>\n",
       "    </tr>\n",
       "  </tbody>\n",
       "</table>\n",
       "</div>"
      ],
      "text/plain": [
       "     imdbid     id                      title  year visible  rating  \\\n",
       "0  10838180  10167  Matrix Resurrections, The  2021       1       3   \n",
       "1   0234215     58       Matrix Reloaded, The  2003       1       2   \n",
       "2   0242653     59    Matrix Revolutions, The  2003       1       3   \n",
       "3   0303678   4429      Armitage: Dual Matrix  2002       1       1   \n",
       "4   0133093     36                Matrix, The  1999       1       3   \n",
       "\n",
       "   submitterid dubious                 date  \n",
       "0        19776       0  2021-12-25 05:10:39  \n",
       "1            1       0  2008-07-21 00:00:00  \n",
       "2            1       0  2008-07-21 00:00:00  \n",
       "3         7916       1  2013-08-01 15:26:03  \n",
       "4            1       0  2008-07-20 00:00:00  "
      ]
     },
     "execution_count": 19,
     "metadata": {},
     "output_type": "execute_result"
    }
   ],
   "source": [
    "df_movies_by_title = api_client.get_movies_by_title(\"matrix\")\n",
    "# Display the first few rows of the DataFrame to inspect the data\n",
    "df_movies_by_title.head()\n"
   ]
  },
  {
   "cell_type": "markdown",
   "metadata": {},
   "source": [
    "This dataset lists movies related to the search term \"Matrix\" with their corresponding Bechdel scores, ranging from 0 to 3. It includes columns for each movie's IMDB ID, release year, and a flag indicating the reliability of the Bechdel test result."
   ]
  },
  {
   "cell_type": "code",
   "execution_count": 20,
   "metadata": {},
   "outputs": [
    {
     "data": {
      "text/html": [
       "<div>\n",
       "<style scoped>\n",
       "    .dataframe tbody tr th:only-of-type {\n",
       "        vertical-align: middle;\n",
       "    }\n",
       "\n",
       "    .dataframe tbody tr th {\n",
       "        vertical-align: top;\n",
       "    }\n",
       "\n",
       "    .dataframe thead th {\n",
       "        text-align: right;\n",
       "    }\n",
       "</style>\n",
       "<table border=\"1\" class=\"dataframe\">\n",
       "  <thead>\n",
       "    <tr style=\"text-align: right;\">\n",
       "      <th></th>\n",
       "      <th>dubious</th>\n",
       "      <th>visible</th>\n",
       "      <th>submitterid</th>\n",
       "      <th>rating</th>\n",
       "      <th>id</th>\n",
       "      <th>year</th>\n",
       "      <th>imdbid</th>\n",
       "      <th>date</th>\n",
       "      <th>title</th>\n",
       "    </tr>\n",
       "  </thead>\n",
       "  <tbody>\n",
       "    <tr>\n",
       "      <th>0</th>\n",
       "      <td>0</td>\n",
       "      <td>1</td>\n",
       "      <td>1</td>\n",
       "      <td>3</td>\n",
       "      <td>36</td>\n",
       "      <td>1999</td>\n",
       "      <td>0133093</td>\n",
       "      <td>2008-07-20 00:00:00</td>\n",
       "      <td>Matrix, The</td>\n",
       "    </tr>\n",
       "  </tbody>\n",
       "</table>\n",
       "</div>"
      ],
      "text/plain": [
       "  dubious visible  submitterid  rating  id  year   imdbid  \\\n",
       "0       0       1            1       3  36  1999  0133093   \n",
       "\n",
       "                  date        title  \n",
       "0  2008-07-20 00:00:00  Matrix, The  "
      ]
     },
     "execution_count": 20,
     "metadata": {},
     "output_type": "execute_result"
    }
   ],
   "source": [
    "# Retrieve movie data by IMDB ID\n",
    "imdb_id = \"0133093\"  # Example IMDB ID for \"The Matrix\"\n",
    "df_movie_by_imdb = api_client.get_movie_by_imdb_id(imdb_id)\n",
    "# Display the data for the single movie\n",
    "df_movie_by_imdb.head()"
   ]
  },
  {
   "cell_type": "markdown",
   "metadata": {},
   "source": [
    "This dataset provides information for a single movie identified by the IMDB ID \"0133093\", known as \"The Matrix\". It details the movie's Bechdel score, release year, and a flag for any doubts regarding the Bechdel test outcome."
   ]
  },
  {
   "cell_type": "markdown",
   "metadata": {},
   "source": [
    "### Analysis Possibilities\n",
    "With this data, we can analyze trends in film with respect to gender representation, such as:\n",
    "- The proportion of movies passing the Bechdel Test over the years.\n",
    "- Correlations between Bechdel scores and other movie attributes like genre or box office performance.\n",
    "* How many movies pass the Bechdel Test each year?\n",
    "* Is there a correlation between the Bechdel Test score and the movie's popularity or critical acclaim?\n",
    "* Analysis of genre-wise distribution of Bechdel Test scores."
   ]
  },
  {
   "cell_type": "markdown",
   "metadata": {},
   "source": [
    "# Part 3: Web Scraping"
   ]
  },
  {
   "cell_type": "markdown",
   "metadata": {},
   "source": [
    "### Overview\n",
    "This notebook demonstrates how to scrape data from Rotten Tomatoes, specifically the Golden Globe Best Film winners and their Tomatometer scores.\n"
   ]
  },
  {
   "cell_type": "markdown",
   "metadata": {},
   "source": [
    "### Methodology\n",
    "The `GoldenGlobesScraper` class is designed to:\n",
    "- Send an HTTP request to the provided Rotten Tomatoes URL.\n",
    "- Parse the HTML content using BeautifulSoup to extract movie titles and Tomatometer scores.\n",
    "- Store the extracted data in a list of dictionaries, which can be easily converted into a pandas DataFrame."
   ]
  },
  {
   "cell_type": "code",
   "execution_count": 21,
   "metadata": {},
   "outputs": [
    {
     "name": "stdout",
     "output_type": "stream",
     "text": [
      "200\n"
     ]
    },
    {
     "data": {
      "text/html": [
       "<div>\n",
       "<style scoped>\n",
       "    .dataframe tbody tr th:only-of-type {\n",
       "        vertical-align: middle;\n",
       "    }\n",
       "\n",
       "    .dataframe tbody tr th {\n",
       "        vertical-align: top;\n",
       "    }\n",
       "\n",
       "    .dataframe thead th {\n",
       "        text-align: right;\n",
       "    }\n",
       "</style>\n",
       "<table border=\"1\" class=\"dataframe\">\n",
       "  <thead>\n",
       "    <tr style=\"text-align: right;\">\n",
       "      <th></th>\n",
       "      <th>title</th>\n",
       "      <th>year</th>\n",
       "      <th>score</th>\n",
       "      <th>url</th>\n",
       "    </tr>\n",
       "  </thead>\n",
       "  <tbody>\n",
       "    <tr>\n",
       "      <th>0</th>\n",
       "      <td>Toy Story 2</td>\n",
       "      <td>1999</td>\n",
       "      <td>100%</td>\n",
       "      <td>https://www.rottentomatoes.com/m/toy_story_2</td>\n",
       "    </tr>\n",
       "    <tr>\n",
       "      <th>1</th>\n",
       "      <td>The Treasure of the Sierra Madre</td>\n",
       "      <td>1948</td>\n",
       "      <td>100%</td>\n",
       "      <td>https://www.rottentomatoes.com/m/treasure_of_t...</td>\n",
       "    </tr>\n",
       "    <tr>\n",
       "      <th>2</th>\n",
       "      <td>Lady Bird</td>\n",
       "      <td>2017</td>\n",
       "      <td>99%</td>\n",
       "      <td>https://www.rottentomatoes.com/m/lady_bird</td>\n",
       "    </tr>\n",
       "    <tr>\n",
       "      <th>3</th>\n",
       "      <td>E.T. the Extra-Terrestrial</td>\n",
       "      <td>1982</td>\n",
       "      <td>99%</td>\n",
       "      <td>https://www.rottentomatoes.com/m/et_the_extrat...</td>\n",
       "    </tr>\n",
       "    <tr>\n",
       "      <th>4</th>\n",
       "      <td>On the Waterfront</td>\n",
       "      <td>1954</td>\n",
       "      <td>99%</td>\n",
       "      <td>https://www.rottentomatoes.com/m/on_the_waterf...</td>\n",
       "    </tr>\n",
       "  </tbody>\n",
       "</table>\n",
       "</div>"
      ],
      "text/plain": [
       "                              title  year score  \\\n",
       "0                       Toy Story 2  1999  100%   \n",
       "1  The Treasure of the Sierra Madre  1948  100%   \n",
       "2                         Lady Bird  2017   99%   \n",
       "3        E.T. the Extra-Terrestrial  1982   99%   \n",
       "4                 On the Waterfront  1954   99%   \n",
       "\n",
       "                                                 url  \n",
       "0       https://www.rottentomatoes.com/m/toy_story_2  \n",
       "1  https://www.rottentomatoes.com/m/treasure_of_t...  \n",
       "2         https://www.rottentomatoes.com/m/lady_bird  \n",
       "3  https://www.rottentomatoes.com/m/et_the_extrat...  \n",
       "4  https://www.rottentomatoes.com/m/on_the_waterf...  "
      ]
     },
     "execution_count": 21,
     "metadata": {},
     "output_type": "execute_result"
    }
   ],
   "source": [
    "# Import the scraper class from our custom package for web scraping tasks.\n",
    "from src.movie_analysis.part_3_web_scraping import RottenTomatoesScraper\n",
    "\n",
    "# Define the URL for the Rotten Tomatoes Golden Globes Best Film winners list.\n",
    "base_site1 = \"https://editorial.rottentomatoes.com/guide/golden-globes-best-film-winners-by-tomatometer/\"\n",
    "\n",
    "# Initialize the web scraper with the specified URL.\n",
    "scraper = RottenTomatoesScraper(base_site1)\n",
    "\n",
    "# Use the scraper to collect movie data into a pandas DataFrame.\n",
    "movies_df = scraper.scrape_movies()\n",
    "\n",
    "# Display the first five rows of the scraped movie data for verification.\n",
    "movies_df.head()"
   ]
  },
  {
   "cell_type": "markdown",
   "metadata": {},
   "source": [
    "### Dataset Description\n",
    "The resulting dataset includes the following fields:\n",
    "\n",
    "- title: The name of the movie.\n",
    "- year: The release year of the movie.\n",
    "- score: The Tomatometer score given to the movie on Rotten Tomatoes, which is a percentage representing the proportion of positive reviews.\n",
    "- url: The specific URL to the Rotten Tomatoes page for the movie."
   ]
  },
  {
   "cell_type": "markdown",
   "metadata": {},
   "source": [
    "### Potential Analysis\n",
    "With this dataset, we can explore questions such as:\n",
    "- How have Tomatometer scores of Golden Globe-winning films trended over time?\n",
    "- Is there a correlation between Tomatometer scores and other awards, like the Oscars?\n",
    "- Do higher Tomatometer scores correlate with box office success for these award-winning films?"
   ]
  },
  {
   "cell_type": "markdown",
   "metadata": {},
   "source": [
    "## Part 4: Analyze dataset"
   ]
  },
  {
   "cell_type": "markdown",
   "metadata": {},
   "source": [
    "Most movies after the year 1967 seem to have higher Bechdel scores, but do they pass the Bechdel test?"
   ]
  },
  {
   "cell_type": "code",
   "execution_count": 22,
   "metadata": {},
   "outputs": [
    {
     "name": "stderr",
     "output_type": "stream",
     "text": [
      "d:\\python project\\movie_analysis\\src\\movie_analysis\\part_2_API.py:34: SettingWithCopyWarning: \n",
      "A value is trying to be set on a copy of a slice from a DataFrame.\n",
      "Try using .loc[row_indexer,col_indexer] = value instead\n",
      "\n",
      "See the caveats in the documentation: https://pandas.pydata.org/pandas-docs/stable/user_guide/indexing.html#returning-a-view-versus-a-copy\n",
      "  df_new = df_new.assign(Bechdel_Score=lambda x: x['Bechdel Score'].astype('category'))\n"
     ]
    },
    {
     "data": {
      "text/html": [
       "<div>\n",
       "<style scoped>\n",
       "    .dataframe tbody tr th:only-of-type {\n",
       "        vertical-align: middle;\n",
       "    }\n",
       "\n",
       "    .dataframe tbody tr th {\n",
       "        vertical-align: top;\n",
       "    }\n",
       "\n",
       "    .dataframe thead th {\n",
       "        text-align: right;\n",
       "    }\n",
       "</style>\n",
       "<table border=\"1\" class=\"dataframe\">\n",
       "  <thead>\n",
       "    <tr style=\"text-align: right;\">\n",
       "      <th></th>\n",
       "      <th>Bechdel Score</th>\n",
       "      <th>id</th>\n",
       "      <th>year</th>\n",
       "      <th>title</th>\n",
       "      <th>imdbid</th>\n",
       "    </tr>\n",
       "  </thead>\n",
       "  <tbody>\n",
       "    <tr>\n",
       "      <th>1368</th>\n",
       "      <td>0</td>\n",
       "      <td>323</td>\n",
       "      <td>1968-01-01</td>\n",
       "      <td>Taiyo no oji: Horusu no daiboken</td>\n",
       "      <td>0063668</td>\n",
       "    </tr>\n",
       "    <tr>\n",
       "      <th>1369</th>\n",
       "      <td>1</td>\n",
       "      <td>599</td>\n",
       "      <td>1968-01-01</td>\n",
       "      <td>Planet of the Apes</td>\n",
       "      <td>0063442</td>\n",
       "    </tr>\n",
       "    <tr>\n",
       "      <th>1370</th>\n",
       "      <td>2</td>\n",
       "      <td>764</td>\n",
       "      <td>1968-01-01</td>\n",
       "      <td>Charly</td>\n",
       "      <td>0062794</td>\n",
       "    </tr>\n",
       "    <tr>\n",
       "      <th>1371</th>\n",
       "      <td>0</td>\n",
       "      <td>844</td>\n",
       "      <td>1968-01-01</td>\n",
       "      <td>Producers, The</td>\n",
       "      <td>0063462</td>\n",
       "    </tr>\n",
       "    <tr>\n",
       "      <th>1372</th>\n",
       "      <td>3</td>\n",
       "      <td>857</td>\n",
       "      <td>1968-01-01</td>\n",
       "      <td>Rosemary&amp;#39;s Baby</td>\n",
       "      <td>0063522</td>\n",
       "    </tr>\n",
       "  </tbody>\n",
       "</table>\n",
       "</div>"
      ],
      "text/plain": [
       "     Bechdel Score   id       year                             title   imdbid\n",
       "1368             0  323 1968-01-01  Taiyo no oji: Horusu no daiboken  0063668\n",
       "1369             1  599 1968-01-01                Planet of the Apes  0063442\n",
       "1370             2  764 1968-01-01                            Charly  0062794\n",
       "1371             0  844 1968-01-01                    Producers, The  0063462\n",
       "1372             3  857 1968-01-01               Rosemary&#39;s Baby  0063522"
      ]
     },
     "execution_count": 22,
     "metadata": {},
     "output_type": "execute_result"
    }
   ],
   "source": [
    "# Process the movies DataFrame\n",
    "df_processed = api_client.process_movies(df_all_movies)\n",
    "df_processed.head()"
   ]
  },
  {
   "cell_type": "markdown",
   "metadata": {},
   "source": [
    "Now, there is a dataframe called pass test, with a value of 1 for all the movies that pass the Bechdel test, and a value of 0 for the movies that don’t."
   ]
  },
  {
   "cell_type": "code",
   "execution_count": 23,
   "metadata": {},
   "outputs": [
    {
     "name": "stderr",
     "output_type": "stream",
     "text": [
      "d:\\python project\\movie_analysis\\src\\movie_analysis\\part_2_API.py:46: SettingWithCopyWarning: \n",
      "A value is trying to be set on a copy of a slice from a DataFrame.\n",
      "Try using .loc[row_indexer,col_indexer] = value instead\n",
      "\n",
      "See the caveats in the documentation: https://pandas.pydata.org/pandas-docs/stable/user_guide/indexing.html#returning-a-view-versus-a-copy\n",
      "  df['pass_test'] = df['Bechdel Score'].apply(lambda score: 1 if score >= 3 else 0)\n"
     ]
    }
   ],
   "source": [
    "df_processed = api_client.add_pass_test_column(df_processed)"
   ]
  },
  {
   "cell_type": "code",
   "execution_count": 24,
   "metadata": {},
   "outputs": [
    {
     "data": {
      "image/png": "[encoded data removed]",
      "text/plain": [
       "<Figure size 640x480 with 1 Axes>"
      ]
     },
     "metadata": {},
     "output_type": "display_data"
    }
   ],
   "source": [
    "# Plot the Bechdel Score distribution\n",
    "fig_bechdel_score = api_client.plot_bechdel_score(df_processed)\n",
    "plt.show(fig_bechdel_score)  # This will display the figure in the notebook"
   ]
  },
  {
   "cell_type": "code",
   "execution_count": 25,
   "metadata": {},
   "outputs": [
    {
     "data": {
      "image/png": "[encoded data removed]",
      "text/plain": [
       "<Figure size 640x480 with 1 Axes>"
      ]
     },
     "metadata": {},
     "output_type": "display_data"
    }
   ],
   "source": [
    "# Plot the pass test distribution\n",
    "fig_pass_test = api_client.plot_pass_test(df_processed)\n",
    "plt.show(fig_pass_test)  # This will display the figure in the notebook"
   ]
  },
  {
   "cell_type": "markdown",
   "metadata": {},
   "source": [
    "There are more movies that have passed the Bechdel test as opposed to the ones that haven’t, since the year 1967.\n",
    "\n",
    "However, this difference is not as significant as I expected it to be. There still seems to be a very large number of movies that didn’t pass the test."
   ]
  },
  {
   "cell_type": "markdown",
   "metadata": {},
   "source": [
    "#### Part_3 analysis"
   ]
  },
  {
   "cell_type": "code",
   "execution_count": 26,
   "metadata": {},
   "outputs": [
    {
     "name": "stdout",
     "output_type": "stream",
     "text": [
      "200\n"
     ]
    },
    {
     "data": {
      "image/png": "[encoded data removed]",
      "text/plain": [
       "<Figure size 1000x500 with 1 Axes>"
      ]
     },
     "metadata": {},
     "output_type": "display_data"
    },
    {
     "data": {
      "image/png": "[encoded data removed]",
      "text/plain": [
       "<Figure size 1000x500 with 1 Axes>"
      ]
     },
     "metadata": {},
     "output_type": "display_data"
    }
   ],
   "source": [
    "from src.movie_analysis.part_3_web_scraping import RottenTomatoesScraper\n",
    "scraper = RottenTomatoesScraper(\"https://editorial.rottentomatoes.com/guide/golden-globes-best-film-winners-by-tomatometer/\")\n",
    "movies_df = scraper.scrape_movies()\n",
    "\n",
    "# Prepare the data by converting 'year' to integer and 'score' to a float\n",
    "prepared_df = scraper.prepare_data(movies_df)\n",
    "\n",
    "# Plot the number of movies by year\n",
    "scraper.plot_number_of_movies_by_year(prepared_df)\n",
    "\n",
    "# Plot the average score by year\n",
    "scraper.plot_average_score_by_year(prepared_df)"
   ]
  },
  {
   "cell_type": "markdown",
   "metadata": {},
   "source": [
    "This use of RottenTomatoesScraper class is to scrape movie data from the Rotten Tomatoes website, process the data, and plot visualizations. Specifically, the scraper is used to extract movie information from a given URL, convert the 'year' column to integers and the 'score' column to floats, and then create two bar charts: one showing the number of movies by year, and another showing the average score by year. The visualizations provide insights into the distribution and average Rotten Tomatoes scores of movies over the years."
   ]
  },
  {
   "cell_type": "markdown",
   "metadata": {},
   "source": [
    "# References"
   ]
  },
  {
   "cell_type": "markdown",
   "metadata": {},
   "source": [
    "Alex Vo. Golden Globes Best Film Winners by Tomatometer. Retrieved from https://editorial.rottentomatoes.com/guide/golden-globes-best-film-winners-by-tomatometer/\n",
    "\n",
    "Chocolate, T. (2013, June 6). Visualizing the Bechdel Test. Retrieved from https://tenchocolatesundaes.blogspot.com/2013/06/visualizing-bechdel-test.html"
   ]
  }
 ],
 "metadata": {
  "kernelspec": {
   "display_name": "Python 3",
   "language": "python",
   "name": "python3"
  },
  "language_info": {
   "codemirror_mode": {
    "name": "ipython",
    "version": 3
   },
   "file_extension": ".py",
   "mimetype": "text/x-python",
   "name": "python",
   "nbconvert_exporter": "python",
   "pygments_lexer": "ipython3",
   "version": "3.9.12"
  }
 },
 "nbformat": 4,
 "nbformat_minor": 2
}
